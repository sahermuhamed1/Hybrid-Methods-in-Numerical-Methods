{
 "cells": [
  {
   "cell_type": "code",
   "execution_count": 2,
   "metadata": {},
   "outputs": [],
   "source": [
    "import numpy as np\n",
    "import pandas as pd\n",
    "import math as m\n",
    "import time\n",
    "import sympy as sp"
   ]
  },
  {
   "cell_type": "markdown",
   "metadata": {},
   "source": [
    "<div style=\"text-align:center; background-color:#ffeeba; padding:20px;\">\n",
    "  <h1 style=\"font-size:36px; color:#dc3545;\"><b>1.Bisection Method</b></h1>\n",
    "</div>\n"
   ]
  },
  {
   "attachments": {
    "image.png": {
     "image/png": "[encoded data removed]"
    }
   },
   "cell_type": "markdown",
   "metadata": {},
   "source": [
    "![image.png](attachment:image.png)"
   ]
  },
  {
   "cell_type": "code",
   "execution_count": 3,
   "metadata": {},
   "outputs": [],
   "source": [
    "\"\"\"\"Bisection method\"\"\"\n",
    "\n",
    "def bisection(f, a, b, tol = 1.e-6):\n",
    "    iteration = 0 #initialize counter iteration\n",
    "    if (f(a) * f(b) < 0.0): # check if there is a root\n",
    "        while ((b-a) > tol): # check if the end-points converge\n",
    "            iteration = iteration + 1\n",
    "            x = (a + b)/2\n",
    "            if (f(a) * f(x) < 0.0): # if f(b)'s sign equal to f(x)'s sign, then b=x\n",
    "                b = x\n",
    "            elif (f(x) * f(b) < 0.0): # if f(a)'s sign equal to f(x)'s sign, then a=x\n",
    "                a = x\n",
    "            else:\n",
    "                break\n",
    "            print(iteration, x)\n",
    "    else:\n",
    "        print('failure')\n",
    "    return x"
   ]
  },
  {
   "cell_type": "code",
   "execution_count": 4,
   "metadata": {},
   "outputs": [
    {
     "name": "stdout",
     "output_type": "stream",
     "text": [
      "The approximate solution x is:  0.567193603515625\n",
      "And the value f(x) is:  0.0001390223881425623\n"
     ]
    }
   ],
   "source": [
    "import scipy.optimize as spo\n",
    "def f(x):\n",
    "    y = np.log(x)+x\n",
    "    return y\n",
    "\n",
    "# f(a)'s sign should be different from f(b)'s sign\n",
    "a = 0.1\n",
    "b = 1.0\n",
    "tol = 1.e-4\n",
    "x = spo.bisect(f, a, b, () , tol)\n",
    "print('The approximate solution x is: ', x)\n",
    "print('And the value f(x) is: ', f(x))"
   ]
  },
  {
   "cell_type": "code",
   "execution_count": 5,
   "metadata": {},
   "outputs": [
    {
     "name": "stdout",
     "output_type": "stream",
     "text": [
      "1 1.0\n",
      "2 1.5\n",
      "3 1.25\n",
      "4 1.125\n",
      "5 1.1875\n",
      "6 1.21875\n",
      "7 1.203125\n",
      "8 1.1953125\n",
      "9 1.19140625\n",
      "10 1.193359375\n",
      "11 1.1923828125\n",
      "12 1.19287109375\n",
      "13 1.192626953125\n",
      "14 1.1925048828125\n",
      "15 1.19256591796875\n"
     ]
    }
   ],
   "source": [
    "z = \"x**2 + 3*x - 5\"\n",
    "# make a evaluable function and pass it to bisection\n",
    "f = lambda x: eval(z)\n",
    "a = 0\n",
    "b = 2\n",
    "tol = 1.e-4\n",
    "x = bisection(f, a, b, tol)"
   ]
  },
  {
   "cell_type": "markdown",
   "metadata": {},
   "source": [
    "<div style=\"text-align:center; background-color:#ffeeba; padding:20px;\">\n",
    "  <h1 style=\"font-size:36px; color:#dc3545;\"><b>2.Newton's Method</b></h1>\n",
    "</div>\n"
   ]
  },
  {
   "cell_type": "markdown",
   "metadata": {},
   "source": [
    "#### In this case, [ f(x) = ln x + x ] and [ f′(x) = 1/x + 1 ]"
   ]
  },
  {
   "attachments": {
    "image.png": {
     "image/png": "[encoded data removed]"
    }
   },
   "cell_type": "markdown",
   "metadata": {},
   "source": [
    "![image.png](attachment:image.png)"
   ]
  },
  {
   "cell_type": "code",
   "execution_count": 6,
   "metadata": {},
   "outputs": [],
   "source": [
    "\"\"\"Newton's method\"\"\"\n",
    "def newton(f, df, x0, tol = 1.e-6, maxit = 100):\n",
    "# f = the function f(x)\n",
    "# df = the derivative of f(x)\n",
    "# x0 = the initial guess of the solution\n",
    "# tol = tolerance for the absolute error\n",
    "# maxit = maximum number of iterations\n",
    "    err = 1.0\n",
    "    iteration = 0\n",
    "    xk = x0\n",
    "    while (err > tol and iteration < maxit):\n",
    "        iteration = iteration + 1\n",
    "        err = xk # error is the previous xk\n",
    "        xk = xk - f(xk)/df (xk) # xk =xk - f(xk)/f'(xk)\n",
    "        err = np.abs(err - xk) # compute the new error\n",
    "        print (iteration, xk)\n",
    "    return xk"
   ]
  },
  {
   "cell_type": "code",
   "execution_count": 7,
   "metadata": {},
   "outputs": [
    {
     "name": "stdout",
     "output_type": "stream",
     "text": [
      "1 0.5\n",
      "2 0.5643823935199818\n",
      "3 0.5671389877150601\n",
      "4 0.5671432903993691\n",
      "The aproximate solution is:  0.5671432903993691\n",
      "And the error is:  -2.877842408821607e-11\n"
     ]
    }
   ],
   "source": [
    "def f(x):\n",
    "    y = np.log(x) + x\n",
    "    return y\n",
    "def df(x):\n",
    "    y = 1.0 / x + 1.0\n",
    "    return y\n",
    "tol = 1.e-4\n",
    "maxit = 50\n",
    "x0 = 1.0\n",
    "x = newton(f, df, x0, tol, maxit)\n",
    "print ('The aproximate solution is: ', x)\n",
    "print('And the error is: ', f(x))"
   ]
  },
  {
   "cell_type": "markdown",
   "metadata": {},
   "source": [
    "<div style=\"text-align:center; background-color:#ffeeba; padding:20px;\">\n",
    "  <h1 style=\"font-size:36px; color:#dc3545;\"><b>3.Secant Method</b></h1>\n",
    "</div>\n"
   ]
  },
  {
   "attachments": {
    "image.png": {
     "image/png": "[encoded data removed]"
    }
   },
   "cell_type": "markdown",
   "metadata": {},
   "source": [
    "![image.png](attachment:image.png)"
   ]
  },
  {
   "cell_type": "code",
   "execution_count": 8,
   "metadata": {},
   "outputs": [],
   "source": [
    "\"\"\"Secant method\"\"\"\n",
    "def secant(f, x1, x2, tol = 1.e-6, maxit = 100):\n",
    "# f = the function f(x)\n",
    "# x1 = an initial guess of the solution\n",
    "# x2 = another initial guess of the solution\n",
    "# tol = tolerance for the absolute error\n",
    "# maxit = maximum number of iterations\n",
    "    err = 1.0\n",
    "    iteration = 0\n",
    "    while (err > tol and iteration < maxit):\n",
    "        xk = x1\n",
    "        xk1 = x2\n",
    "        iteration = iteration + 1\n",
    "        err = xk1\n",
    "        xk1 = xk - f(xk)*(xk-xk1)/(f(xk)-f(xk1))\n",
    "        err = np.abs(err - xk1)\n",
    "        x1 = x2\n",
    "        x2 = xk1\n",
    "        print(iteration, xk1)\n",
    "    return xk1"
   ]
  },
  {
   "cell_type": "code",
   "execution_count": 9,
   "metadata": {},
   "outputs": [
    {
     "name": "stdout",
     "output_type": "stream",
     "text": [
      "1 0.40938389085035876\n",
      "2 0.651575386390747\n",
      "3 0.5751035382227284\n",
      "4 0.5667851889083253\n",
      "5 0.5671448866112347\n",
      "6 0.5671432907314143\n",
      "The approximate solution is:  0.5671432907314143\n",
      "And the error is:  8.887366398369068e-10\n"
     ]
    }
   ],
   "source": [
    "def f(x):\n",
    "    y = np.log(x) + x\n",
    "    return y\n",
    "tol = 1.e-4\n",
    "maxit = 50\n",
    "x1 = 1.0\n",
    "x2 = 2.0\n",
    "x = secant(f, x1, x2, tol, maxit)\n",
    "print('The approximate solution is: ', x)\n",
    "print('And the error is: ', f(x))"
   ]
  },
  {
   "cell_type": "markdown",
   "metadata": {},
   "source": [
    "<div style=\"text-align:center; background-color:#ffeeba; padding:20px;\">\n",
    "  <h1 style=\"font-size:36px; color:#dc3545;\"><b>4.Bisection-Trisection method</b></h1>\n",
    "</div>\n"
   ]
  },
  {
   "cell_type": "code",
   "execution_count": 10,
   "metadata": {},
   "outputs": [
    {
     "name": "stdout",
     "output_type": "stream",
     "text": [
      "Iterations: 23\n",
      "Approximate root: 2.1253911988112093\n",
      "Bracketing interval: 2.1253911988111263 2.1253911988112093\n"
     ]
    }
   ],
   "source": [
    "\"\"\" Bisection-Trisection method\"\"\"\n",
    "\n",
    "def BTsection(f, a, b, tol, imax):\n",
    "  for i in range(1, imax + 1):  # starts a loop that will iterate from 1 to imax\"iteration\"\n",
    "    # Bisection step\n",
    "    r = (a + b) / 2  # root of bisection\n",
    "    if f(a) * f(r) < 0:  # check if a , r have oppsite signs\n",
    "      b = r  # then 'b' will take the value of r\n",
    "      r = (a + 2 * b) / 3  # calc the new root by using the trisection law\n",
    "    elif f(r) * f(b) < 0:  # check if b , r have oppsite signs\n",
    "      a = r  # then 'a' will take the value of r\n",
    "      r = (2 * a + b) / 3  # calc the new root by using the trisection law\n",
    "\n",
    "    # Trisection step\n",
    "    if f(a) * f(r) < 0:  # check if a , r have oppsite signs\n",
    "      b = r  # then 'b' will take the value of r\n",
    "    elif f(r) * f(b) < 0:  # check if b , r have oppsite signs\n",
    "      a = r  # then 'a' will take the value of r\n",
    "\n",
    "    if abs(f(r)) < tol:  # # check if f(r) less than 10^-12\n",
    "      return i, r, a, b\n",
    "\n",
    "  return i, r, a, b\n",
    "\n",
    "\n",
    "\n",
    "\n",
    "# Example usage\n",
    "def function(x):\n",
    "  return sp.exp(x) - 3 * x - 2\n",
    "\n",
    "\n",
    "imax = 1000\n",
    "tol = 1e-12\n",
    "a = 2\n",
    "b = 3\n",
    "\n",
    "iterations, root, lower_bound, upper_bound = BTsection(function, a, b, tol, imax)\n",
    "\n",
    "print(\"Iterations:\", iterations)\n",
    "print(\"Approximate root:\", root)\n",
    "print(\"Bracketing interval:\", lower_bound, upper_bound)"
   ]
  },
  {
   "cell_type": "markdown",
   "metadata": {},
   "source": [
    "<div style=\"text-align:center; background-color:#ffeeba; padding:20px;\">\n",
    "  <h1 style=\"font-size:36px; color:#dc3545;\"><b>5.Newton-Raphson method and bisection method</b></h1>\n",
    "</div>\n"
   ]
  },
  {
   "cell_type": "code",
   "execution_count": 11,
   "metadata": {},
   "outputs": [
    {
     "name": "stdout",
     "output_type": "stream",
     "text": [
      "CPU execution time: 0.0000000000 seconds\n",
      "Root: 1.5243452049841444\n",
      "Number of iterations: 7\n"
     ]
    }
   ],
   "source": [
    "\"\"\"Newton-Raphson method and bisection method\"\"\"\n",
    "\n",
    "start_time = 0.0\n",
    "start_time = time.time()\n",
    "\n",
    "def newton_raphson_with_bisection(f, a, b, eps, imax, h=1e-5):\n",
    "  if f(a) * f(b) > 0:\n",
    "    raise ValueError(\"Root not bracketed\")\n",
    "\n",
    "  def df(x):\n",
    "    return (f(x + h) - f(x - h)) / (2 * h)\n",
    "\n",
    "  x = (a + b) / 2\n",
    "  for i in range(imax):\n",
    "\n",
    "    if abs(f(x)) < eps:\n",
    "      return x, i + 1\n",
    "    d = df(x)\n",
    "    if d == 0:\n",
    "      return None, i + 1\n",
    "    x -= f(x) / d\n",
    "    if f(a) * f(x) < 0:\n",
    "      b = x\n",
    "    else:\n",
    "      a = x\n",
    "  return None, imax\n",
    "\n",
    "\n",
    "\n",
    "\n",
    "def f(x):\n",
    "  return x * m.exp(x) - 7\n",
    "\n",
    "\n",
    "initial_approximations = [0, 2]\n",
    "root, iterations = newton_raphson_with_bisection(f, initial_approximations[0], initial_approximations[1], 1e-12, 1000)\n",
    "end_time = 0.0\n",
    "end_time = time.time()\n",
    "elapsed_time = end_time - start_time\n",
    "\n",
    "print(f\"CPU execution time: {elapsed_time:.10f} seconds\")\n",
    "print(\"Root:\", root)\n",
    "print(\"Number of iterations:\", iterations)"
   ]
  },
  {
   "cell_type": "markdown",
   "metadata": {},
   "source": [
    "<div style=\"text-align:center; background-color:#ffeeba; padding:20px;\">\n",
    "  <h1 style=\"font-size:36px; color:#dc3545;\"><b>6.Steffensen’s method</b></h1>\n",
    "</div>\n"
   ]
  },
  {
   "cell_type": "code",
   "execution_count": 12,
   "metadata": {},
   "outputs": [
    {
     "name": "stdout",
     "output_type": "stream",
     "text": [
      "The root of your function is at x=0.853. The error is 98.638*10^-10. Your program was run 4 times.\n"
     ]
    }
   ],
   "source": [
    "# Define your function\n",
    "def func(x):\n",
    "    return x - 2 * np.exp(-x)\n",
    "\n",
    "# Steffensen’s method implementation\n",
    "def steffensen_method(func, xi):\n",
    "    # Define variables\n",
    "    error = 1\n",
    "    count = 0\n",
    "\n",
    "    # Run until the error is less than 10^-6\n",
    "    while error >= 1e-6 and count < 100:\n",
    "        xi_old = xi\n",
    "        xi = xi - ((func(xi))**2 / (func(xi + func(xi)) - func(xi)))\n",
    "\n",
    "        # Find your error\n",
    "        error = abs((xi - xi_old) / xi)\n",
    "\n",
    "        # Count how many times this program is run\n",
    "        count += 1\n",
    "\n",
    "    return xi, error, count\n",
    "\n",
    "# Set your initial guess\n",
    "xi = 1.0  # You can change this initial guess if needed\n",
    "\n",
    "# Run the function\n",
    "xi, error, count = steffensen_method(func, xi)\n",
    "\n",
    "# Display the results\n",
    "if count < 100:\n",
    "    new_error = error * 1e10\n",
    "    print(f'The root of your function is at x={xi:.3f}. The error is {new_error:.3f}*10^-10. Your program was run {count} times.')\n",
    "else:\n",
    "    print('Your guess is too inaccurate. Try again.')"
   ]
  },
  {
   "cell_type": "code",
   "execution_count": null,
   "metadata": {},
   "outputs": [],
   "source": []
  }
 ],
 "metadata": {
  "kernelspec": {
   "display_name": "Python 3",
   "language": "python",
   "name": "python3"
  },
  "language_info": {
   "codemirror_mode": {
    "name": "ipython",
    "version": 3
   },
   "file_extension": ".py",
   "mimetype": "text/x-python",
   "name": "python",
   "nbconvert_exporter": "python",
   "pygments_lexer": "ipython3",
   "version": "3.11.8"
  }
 },
 "nbformat": 4,
 "nbformat_minor": 2
}
